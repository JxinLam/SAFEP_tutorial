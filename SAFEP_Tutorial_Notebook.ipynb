{
 "cells": [
  {
   "cell_type": "code",
   "execution_count": null,
   "id": "f94f0ad2-5fe9-404a-950b-43f051170de2",
   "metadata": {},
   "outputs": [],
   "source": [
    "# importing sys\n",
    "import sys\n",
    " \n",
    "# adding Folder_2 to the system path\n",
    "sys.path.insert(0, './common/Python_Modules/')\n",
    "\n",
    "from AFEP_parse import *\n",
    "import matplotlib.pyplot as plt\n",
    "from IPython.display import display, Markdown\n",
    "\n",
    "import warnings #Suppress future warnings from pandas.\n",
    "warnings.simplefilter(action='ignore', category=FutureWarning)\n",
    "\n",
    "import os\n",
    "#os.getcwd()"
   ]
  },
  {
   "cell_type": "markdown",
   "id": "da0ed20c-03b2-4575-945b-d35196c5b488",
   "metadata": {
    "tags": []
   },
   "source": [
    "# What this Notebook Does:\n",
    "\n",
    "Each section of this notebook will calculate a component of the free energy of binding of phenol to lysozyme as described in the companion tutorial. Briefly, during a free energy perturbation simulation, NAMD (or other software) will write the difference in internal energy between the simulated state and an adjascent state (dE =  E_lambda_k+/-1 - E_lambda_k, where lambda_k determines the ensemble being simulated). The functions used by this notebook read, parse, and process those outputs into a standard format that can be quickly analyzed using one of several methods. By default, we use the Bennett Acceptance Ratio (BAR) estimator with automated decorrelation to make the calculations more robust to both outliers and autocorrelation. See Shirts and Chodera (2018) for more details.\n",
    "\n",
    "One section of the notebook uses thermodynamic integration (TI) to calculate the free energy cost of imposing the DBC. This calculation is much more straight-forward than FEP calculations. We can analytically determine the derivative of the force with respect to lambda over a semi-continuous simulation (instead of using finite differences as in FEP). Simply averaging and accumulating those derivatives yields the free energy cost. See the NAMD User Guide for more details (https://www.ks.uiuc.edu/Research/namd/2.14/ug/node63.html)\n",
    "\n",
    "# How to Use this Notebook:\n",
    "\n",
    "## User Parameters:\n",
    "The notebook as-is will read and process the sample outputs provided. \n",
    "To use it for your own data, be sure to update the section labeled \"User Settings\" below. Pay special attention to the *root* and *path* variables.\n",
    "\n",
    "- root should be the path (relative or absolute) to the parent directory that contains (or will containt) all your data.\n",
    "- temperature is the temperature **at which your simulations were run** \n",
    "- decorrelate is a flag for automatic decorrelation of samples (see Shirts and Chodera '08). Should be set to True for general use. \n",
    "- detectEQ (automatic equilibrium detection) flag is optional. If you have very poor convergence but believe your system is well-sampled, you may wish to try it.\n",
    "\n",
    "## Layout:\n",
    "The notebook is organized into five sections (separated by horizontal lines):\n",
    "- Process the Bound Data [(step 2.2)](#bound_fep)\n",
    "- Process the DBC TI calculation [(step 2.3)](#DBC_TI)\n",
    "- Process the Unbound Data [(step 2.4)](#unbound_fep)\n",
    "- Calculate the Volumetric Restraint Contribution [(step 2.5.2)](#volume)\n",
    "- Calculate the Binding Free Energy [(step 2.5.3)](#total)\n",
    "\n",
    "## File Structure of Sample Data:\n",
    "```\n",
    "Repository/Supp-Files\n",
    "|\n",
    "|----AFEP-Bound-Decoupling\n",
    "|    |----output\n",
    "|         | *.fepout\n",
    "|\n",
    "|----AFEP-Bulk\n",
    "|    |----output\n",
    "|         | *fepout\n",
    "|\n",
    "|----DBC_TI\n",
    "|    |----output\n",
    "|         | *.colvars.traj\n",
    "|\n",
    "|\n",
    "```\n",
    "\n",
    "\n",
    "\n",
    "# Other Important Notes and Credits\n",
    "- This notebook is specially written for the SAFEP tutorial. \n",
    "For more up-to-date and general versions see the SAFEP github.\n",
    "\n",
    "- This and other SAFEP notebooks make use of pyMBAR and Alchemlyb. \n",
    "For more information see Shirts and Chodera (2008), \"Statistically optimal analysis of samples from multiple equilibrium states\" doi: 10.1063/1.2978177\n",
    "\n"
   ]
  },
  {
   "cell_type": "markdown",
   "id": "e92b3b37-19d2-4032-96c2-be09c4671a70",
   "metadata": {},
   "source": [
    "# User Settings:"
   ]
  },
  {
   "cell_type": "code",
   "execution_count": null,
   "id": "463bb934",
   "metadata": {},
   "outputs": [],
   "source": [
    "root = '.' # Root path to fepout files\n",
    "\n",
    "# Used throughout\n",
    "temperature = 300\n",
    "RT = 0.00198720650096 * temperature # RT in kcal/mol\n",
    "\n",
    "# Used in restraint perturbation calculations\n",
    "radius = 3 # Radius of the spherical restraint used for the DBC TI calculation\n",
    "DBC_wall = 1.5 # Position of the DBC upper wall"
   ]
  },
  {
   "cell_type": "markdown",
   "id": "dcba1cf0-1f0c-4bf9-95a0-c535590cf3db",
   "metadata": {},
   "source": [
    "## Update these paths to point to your output files:"
   ]
  },
  {
   "cell_type": "code",
   "execution_count": null,
   "id": "fd90e0e9-55c7-4bf2-bb2d-bfbf4fe696c7",
   "metadata": {},
   "outputs": [],
   "source": [
    "bound_fep_path=f'{root}/Step2_alchemy_site/sample_output/' \n",
    "restraint_perturbation_path = f'{root}/Step3_restraint_perturbation/sample_output/'\n",
    "bulk_fep_path=f'{root}/Step4_alchemy_bulk/sample_output/'"
   ]
  },
  {
   "cell_type": "markdown",
   "id": "8aeb410d-82af-41d9-a5f4-54e816331c99",
   "metadata": {},
   "source": [
    "## Advanced settings:"
   ]
  },
  {
   "cell_type": "code",
   "execution_count": null,
   "id": "606d36a1-6d12-48a1-b376-4835704cb27d",
   "metadata": {},
   "outputs": [],
   "source": [
    "decorrelate = True #Flag for automatic decorrelation\n",
    "detectEQ = False #Flag for automatic equilibrium detection"
   ]
  },
  {
   "cell_type": "markdown",
   "id": "cf11aee7-cd65-484d-a797-2fe8235c2492",
   "metadata": {
    "tags": []
   },
   "source": [
    "***\n",
    "<a id='bound_fep'></a>\n",
    "# Process the Bound FEP Data \n",
    "Here we process the FEP data generated by decoupling the ligand from the protein (**Step 2.2**)\n"
   ]
  },
  {
   "cell_type": "code",
   "execution_count": null,
   "id": "ac7b3088-cb22-45eb-8f2a-18dbf9afecf0",
   "metadata": {},
   "outputs": [],
   "source": [
    "filename='*.fepout' #This can be a regex pattern if you have more than one fepout file\n",
    "#Caution: if you have multiple fepout files, name them alphanumerically\n",
    "\n",
    "fepoutFiles = glob(bound_fep_path+filename) #Resolve any naming regular expressions\n",
    "u_nk, _ = readAndProcess(fepoutFiles, temperature, decorrelate, detectEQ) #u_nk stores the fep data\n",
    "perWindow, cumulative = doEstimation(u_nk) #Run the BAR estimator on the fep data\n",
    "forward, forward_error, backward, backward_error = doConvergence(u_nk) #Used later in the convergence plot\n",
    "\n",
    "dG_site = np.round(cumulative.BAR.f.iloc[-1]*RT, 1)\n",
    "error_site = np.round(cumulative.BAR.errors.iloc[-1]*RT, 1)\n",
    "changeAndError = f'\\u0394G<sub>site</sub> = {dG_site}\\u00B1{error_site} kcal/mol'\n",
    "Markdown('<font size=5>{}</font><br/>'.format(changeAndError))"
   ]
  },
  {
   "cell_type": "code",
   "execution_count": null,
   "id": "bac26b22",
   "metadata": {},
   "outputs": [],
   "source": [
    "#Make some general plots\n",
    "width = 8\n",
    "height = 4\n",
    "fig, axes = plotGeneral(cumulative, perWindow, RT, width=width, height=height, PDFtype='KDE')\n",
    "plt.savefig(f'{bound_fep_path}/bound_generalFigures.pdf')\n",
    "plt.show()\n",
    "\n",
    "fig, convAx = plt.subplots(1,1)\n",
    "convAx = convergencePlot(convAx, forward*RT, forward_error*RT, backward*RT, backward_error*RT)\n",
    "\n",
    "fig.set_figwidth(width*3/4)\n",
    "fig.set_figheight(height)\n",
    "\n",
    "plt.savefig(f'{bound_fep_path}/bound_convergence.pdf')\n",
    "plt.show()"
   ]
  },
  {
   "cell_type": "markdown",
   "id": "bf57540b-0205-4997-a6c3-84314c1be453",
   "metadata": {
    "tags": []
   },
   "source": [
    "***\n",
    "<a id='DBC_TI'></a>\n",
    "# Process the DBC TI calculation\n",
    "Free energy cost of imposing the DBC (**Step 2.3**)\n",
    "\n",
    "Note: The error estimate below is just the standard deviation of the samples. <br>\n",
    "The BAR errors calculated above are standard errors of the mean."
   ]
  },
  {
   "cell_type": "code",
   "execution_count": null,
   "id": "50eece86-6091-4798-93fd-c60ed2d8d857",
   "metadata": {},
   "outputs": [],
   "source": [
    "from TI_Calculations import *"
   ]
  },
  {
   "cell_type": "code",
   "execution_count": null,
   "id": "37993b74-dab4-4bd3-9d91-5b6116d38519",
   "metadata": {},
   "outputs": [],
   "source": [
    "# Setup and processing of colvars data\n",
    "dataTI = pd.read_csv(glob(restraint_perturbation_path+'*.colvars.traj')[0], delim_whitespace=True, names=['step','DBC', 'distance', 'E_dist', 'E_DBC'], comment='#', index_col=0)\n",
    "dataTI = dataTI[dataTI.index>=1000][1:]\n",
    "dataTI.index = dataTI.index-1000\n",
    "\n",
    "nLambdas = 41\n",
    "Lsched = np.linspace(1,0,nLambdas)\n",
    "\n",
    "Dist = makeHarmonicWall(FC=200, upperWalls=radius, name='Dist_rest')\n",
    "DBC = makeHarmonicWall(FC=0, targetFC=200, targetFE=6, upperWalls=DBC_wall, targetEQ=500, numSteps=300000, name='DBC_rest', schedule=Lsched)\n",
    "Ls = (dataTI.index.values-1)//DBC['numSteps']\n",
    "Ls[0] = 0\n",
    "Ls[Ls==41] = 40 # This is a small hack in case there are extra samples for the last windowj\n",
    "\n",
    "dataLs = np.round([DBC['schedule'][i] for i in Ls], 3)\n",
    "dataTI.loc[:,'L'] = dataLs\n",
    "dataTI = dataTI.iloc[1:]\n",
    "\n",
    "TIperWindow, TIcumulative = processTI(dataTI, DBC, Lsched)"
   ]
  },
  {
   "cell_type": "code",
   "execution_count": null,
   "id": "23819d22-33df-46d9-b728-d376fa10f984",
   "metadata": {},
   "outputs": [],
   "source": [
    "dG_DBC = np.round(TIcumulative['dG'][1], 1)\n",
    "error_DBC = np.round(TIcumulative['error'][1], 1)\n",
    "changeAndError = f'\\u0394G<sub>DBC</sub> = {dG_DBC}\\u00B1{error_DBC} kcal/mol'\n",
    "Markdown('<font size=5>{}</font><br/>'.format(changeAndError))"
   ]
  },
  {
   "cell_type": "code",
   "execution_count": null,
   "id": "03a9aaed-ed65-4914-944e-ee703a28afe1",
   "metadata": {},
   "outputs": [],
   "source": [
    "''' Plot the results. '''\n",
    "fig, axes = plotTI(TIcumulative, TIperWindow)\n",
    "plt.savefig(f'{restraint_perturbation_path}/TI_general.pdf')\n",
    "plt.show()"
   ]
  },
  {
   "cell_type": "markdown",
   "id": "331dd723-edd2-48ad-8060-909b74ebab1d",
   "metadata": {
    "tags": []
   },
   "source": [
    "***\n",
    "<a id='unbound_fep'></a>\n",
    "# Process the Bulk FEP Data\n",
    "Ligand decoupling from solvent (**Step 2.4**)"
   ]
  },
  {
   "cell_type": "code",
   "execution_count": null,
   "id": "e20ce3e7-727f-4839-ab7c-2650cb7cb595",
   "metadata": {},
   "outputs": [],
   "source": [
    "filename='*.fepout' #This can be a regex pattern if you have more than one fepout file\n",
    "fepoutFiles = glob(bulk_fep_path+filename) #Resolve any naming regular expressions\n",
    "u_nk, _ = readAndProcess(fepoutFiles, temperature, decorrelate, detectEQ) #u_nk stores the fep data\n",
    "perWindow, cumulative = doEstimation(u_nk) #Run the BAR estimator on the fep data\n",
    "forward, forward_error, backward, backward_error = doConvergence(u_nk) #Used later in the convergence plot\n",
    "\n",
    "dG_bulk = np.round(cumulative.BAR.f.iloc[-1]*RT, 1)\n",
    "error_bulk = np.round(cumulative.BAR.errors.iloc[-1]*RT, 1)\n",
    "changeAndError = f'\\u0394G<sub>bulk</sub> = {dG_bulk}\\u00B1{error_bulk} kcal/mol'\n",
    "Markdown('<font size=5>{}</font><br/>'.format(changeAndError))"
   ]
  },
  {
   "cell_type": "code",
   "execution_count": null,
   "id": "d8472e07-c6ad-4d6a-9b47-1e93a133e3b3",
   "metadata": {},
   "outputs": [],
   "source": [
    "width = 8\n",
    "height = 4\n",
    "fig, axes = plotGeneral(cumulative, perWindow, RT, width=width, height=height, PDFtype='KDE')\n",
    "plt.savefig(f'{bulk_fep_path}bulk_generalFigures.pdf')\n",
    "plt.show()\n",
    "\n",
    "fig, convAx = plt.subplots(1,1)\n",
    "convAx = convergencePlot(convAx, forward*RT, forward_error*RT, backward*RT, backward_error*RT)\n",
    "convAx.set(xlabel='Fraction of Simulation Time', ylabel=r'Total $\\rm\\Delta G_{\\lambda}$ (kcal/mol)')\n",
    "fig.set_figwidth(width*3/4)\n",
    "fig.set_figheight(height)\n",
    "convAx.legend()\n",
    "plt.savefig(f'{bulk_fep_path}bulk_convergence.pdf')\n",
    "plt.show()"
   ]
  },
  {
   "cell_type": "markdown",
   "id": "5c982385-3b00-44e1-b9d0-26d75ecc8708",
   "metadata": {
    "tags": []
   },
   "source": [
    "***\n",
    "<a id='volume'></a>\n",
    "# Calculate the Volumetric Restraint Contribution\n",
    "**Step 2.5.2**\n"
   ]
  },
  {
   "cell_type": "code",
   "execution_count": null,
   "id": "2ac09221-de1f-4ecf-8a4a-1fd0c0f7e7e8",
   "metadata": {},
   "outputs": [],
   "source": [
    "molar = 1660 #cubic angstroms per particle in a one molar solution\n",
    "dG_V = np.round(-RT*np.log(4/3*sp.pi*radius**3/molar), 1)\n",
    "error_V = 0"
   ]
  },
  {
   "cell_type": "code",
   "execution_count": null,
   "id": "2b993ba8-56f6-4567-852d-499ca7aa62f8",
   "metadata": {},
   "outputs": [],
   "source": [
    "change = f'\\u0394G<sub>V</sub> = {np.round(dG_V, 1)} kcal/mol'\n",
    "Markdown('<font size=5>{}</font><br/>'.format(change))"
   ]
  },
  {
   "cell_type": "markdown",
   "id": "78dbe3ef-d34f-4f19-99a9-e0208f56e058",
   "metadata": {
    "tags": []
   },
   "source": [
    "***\n",
    "<a id='total'></a>\n",
    "# Calculate the Binding Free Energy\n",
    "**Step 2.5.3 to End**"
   ]
  },
  {
   "cell_type": "code",
   "execution_count": null,
   "id": "2dc2917e-c95a-4367-a2ba-fe4975ff1c55",
   "metadata": {},
   "outputs": [],
   "source": [
    "def RMS(some_vector):\n",
    "    return np.sqrt(np.mean(np.array(some_vector)**2))"
   ]
  },
  {
   "cell_type": "code",
   "execution_count": null,
   "id": "990ff514-1dc8-4dc2-a1a9-a1484cf05ac7",
   "metadata": {},
   "outputs": [],
   "source": [
    "dG_binding = dG_bulk + dG_V + dG_DBC - dG_site\n",
    "error_binding = np.sqrt(np.mean(np.array([error_bulk, error_V, error_site, error_DBC])**2))"
   ]
  },
  {
   "cell_type": "code",
   "execution_count": null,
   "id": "0d57d412-ed1a-4971-91b1-e4a89eed76c8",
   "metadata": {},
   "outputs": [],
   "source": [
    "changeAndError = f'\\u0394G<sub>binding</sub> = {np.round(dG_binding, 1)}\\u00B1{np.round(error_binding, 1)} kcal/mol'\n",
    "Markdown('<font size=5>{}</font><br/>'.format(changeAndError))"
   ]
  },
  {
   "cell_type": "markdown",
   "id": "9f7962dc-107d-4ad5-a9fa-c850c4bb999f",
   "metadata": {},
   "source": [
    "# Estimate the titration curve"
   ]
  },
  {
   "cell_type": "code",
   "execution_count": null,
   "id": "5d8c2be7-e074-4023-bcfe-fadca180e05f",
   "metadata": {},
   "outputs": [],
   "source": [
    "def P_bind(K, L):\n",
    "    return L/(K+L)\n",
    "\n",
    "def Kd(dG, RT):\n",
    "    return np.exp(dG/RT)*1000"
   ]
  },
  {
   "cell_type": "code",
   "execution_count": null,
   "id": "1680f56b-960e-4284-b9cb-527ee248a6f7",
   "metadata": {},
   "outputs": [],
   "source": [
    "concentrations = np.logspace(-3,2,1000) # A vector of concentrations in millimolar\n",
    "K = Kd(dG_binding, RT)\n",
    "plt.plot(concentrations, P_bind(K, concentrations), label='Binding Curve')\n",
    "plt.fill_between(concentrations, P_bind(Kd(dG_binding-error_binding*1.96, RT), concentrations), P_bind(Kd(dG_binding+error_binding*1.96, RT), concentrations), alpha=0.25, label='95% Confidence Interval')\n",
    "plt.xscale('log')\n",
    "plt.xlabel('Concentration of Phenol (mM)')\n",
    "plt.ylabel('Fraction of Sites Occupied')\n",
    "plt.vlines(K, 0, 1, linestyles='dashed', color='black', label='Dissociation Constant')\n",
    "plt.legend(loc='lower right')\n",
    "\n",
    "plt.savefig(f'./titration_curve.pdf')\n",
    "plt.show()"
   ]
  },
  {
   "cell_type": "code",
   "execution_count": null,
   "id": "3e69342f-4110-4534-9d10-5106d228e748",
   "metadata": {},
   "outputs": [],
   "source": []
  }
 ],
 "metadata": {
  "kernelspec": {
   "display_name": "Python 3 (ipykernel)",
   "language": "python",
   "name": "python3"
  },
  "language_info": {
   "codemirror_mode": {
    "name": "ipython",
    "version": 3
   },
   "file_extension": ".py",
   "mimetype": "text/x-python",
   "name": "python",
   "nbconvert_exporter": "python",
   "pygments_lexer": "ipython3",
   "version": "3.9.7"
  }
 },
 "nbformat": 4,
 "nbformat_minor": 5
}
