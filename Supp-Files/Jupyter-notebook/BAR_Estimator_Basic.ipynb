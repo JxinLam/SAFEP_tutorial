{
 "cells": [
  {
   "cell_type": "code",
   "execution_count": null,
   "id": "f94f0ad2-5fe9-404a-950b-43f051170de2",
   "metadata": {},
   "outputs": [],
   "source": [
    "from AFEP_parse import *\n",
    "\n",
    "from IPython.display import display, Markdown\n",
    "\n",
    "import warnings #Suppress future warnings from pandas.\n",
    "warnings.simplefilter(action='ignore', category=FutureWarning)"
   ]
  },
  {
   "cell_type": "markdown",
   "id": "da0ed20c-03b2-4575-945b-d35196c5b488",
   "metadata": {},
   "source": [
    "# How to Use this Notebook:\n",
    "\n",
    "## This notebook is specially written for the SAFEP tutorial. \n",
    "For more up-to-date and general versions see the SAFEP github.\n",
    "\n",
    "## This and other SAFEP notebooks make use of pyMBAR and Alchemlyb. \n",
    "For more information see Shirts and Chodera (2008), \"Statistically optimal analysis of samples from multiple equilibrium states\" doi: 10.1063/1.2978177\n",
    "\n",
    "## User Parameters:\n",
    "**IMPORTANT: Make sure the temperature matches the temperature used to run the simulations.** <br>\n",
    "The decorrelate flag should be set to True for general use. <br>\n",
    "The detectEQ (automatic equilibrium detection) flag is optional. If you have very poor convergence but believe your system is well-sampled, you may wish to try it."
   ]
  },
  {
   "cell_type": "code",
   "execution_count": null,
   "id": "463bb934",
   "metadata": {},
   "outputs": [],
   "source": [
    "temperature = 300\n",
    "radius = 3 #Radius of the spherical restraint used for the DBC TI calculation\n",
    "\n",
    "decorrelate = True #Flag for automatic decorrelation\n",
    "detectEQ = False #Flag for automatic equilibrium detection\n",
    "RT = 0.00198720650096 * temperature # RT in kcal/mol\n",
    "\n",
    "root = '..' #Root path to fepout files"
   ]
  },
  {
   "cell_type": "markdown",
   "id": "cf11aee7-cd65-484d-a797-2fe8235c2492",
   "metadata": {
    "tags": []
   },
   "source": [
    "***\n",
    "# Process the Bound Data"
   ]
  },
  {
   "cell_type": "code",
   "execution_count": null,
   "id": "210c2d50",
   "metadata": {},
   "outputs": [],
   "source": [
    "path=f'{root}/AFEP-Bound-Decoupling/output/' #Path to fepout files\n",
    "filename='*.fepout' #This can be a regex pattern if you have more than one fepout file\n",
    "#Caution: if you have multiple fepout files, name them alphanumerically"
   ]
  },
  {
   "cell_type": "code",
   "execution_count": null,
   "id": "ac7b3088-cb22-45eb-8f2a-18dbf9afecf0",
   "metadata": {},
   "outputs": [],
   "source": [
    "fepoutFiles = glob(path+filename) #Resolve any naming regular expressions\n",
    "u_nk, _ = readAndProcess(fepoutFiles, temperature, decorrelate, detectEQ) #u_nk stores the fep data\n",
    "perWindow, cumulative = doEstimation(u_nk) #Run the BAR estimator on the fep data\n",
    "forward, forward_error, backward, backward_error = doConvergence(u_nk) #Used later in the convergence plot\n",
    "\n",
    "dG_site = np.round(cumulative.BAR.f.iloc[-1]*RT, 1)\n",
    "error_site = np.round(cumulative.BAR.errors.iloc[-1]*RT, 1)\n",
    "changeAndError = f'\\u0394G<sub>site</sub> = {dG_site}\\u00B1{error_site} kcal/mol'\n",
    "Markdown('<font size=7>{}</font><br/>'.format(changeAndError))"
   ]
  },
  {
   "cell_type": "code",
   "execution_count": null,
   "id": "bac26b22",
   "metadata": {},
   "outputs": [],
   "source": [
    "#Make some general plots\n",
    "width = 8\n",
    "height = 4\n",
    "fig, axes = plotGeneral(cumulative, perWindow, RT, width=width, height=height, PDFtype='Histogram')\n",
    "plt.savefig(f'{path}_bound_generalFigures.pdf')\n",
    "plt.show()\n",
    "\n",
    "fig, convAx = plt.subplots(1,1)\n",
    "convAx = convergencePlot(convAx, forward*RT, forward_error*RT, backward*RT, backward_error*RT)\n",
    "\n",
    "fig.set_figwidth(width*3/4)\n",
    "fig.set_figheight(height)\n",
    "\n",
    "plt.savefig(f'{path}_bound_convergence.pdf')\n",
    "plt.show()"
   ]
  },
  {
   "cell_type": "markdown",
   "id": "331dd723-edd2-48ad-8060-909b74ebab1d",
   "metadata": {
    "tags": []
   },
   "source": [
    "***\n",
    "# Process the Unbound Data"
   ]
  },
  {
   "cell_type": "code",
   "execution_count": null,
   "id": "2b3a21fa-fff8-418d-a841-693d3d991d68",
   "metadata": {},
   "outputs": [],
   "source": [
    "path=f'{root}/AFEP-Hydration/'\n",
    "filename='*.fepout' #This can be a regex pattern if you have more than one fepout file\n",
    "\n",
    "fepoutFiles = glob(path+filename)\n"
   ]
  },
  {
   "cell_type": "code",
   "execution_count": null,
   "id": "e20ce3e7-727f-4839-ab7c-2650cb7cb595",
   "metadata": {},
   "outputs": [],
   "source": [
    "fepoutFiles = glob(path+filename) #Resolve any naming regular expressions\n",
    "u_nk, _ = readAndProcess(fepoutFiles, temperature, decorrelate, detectEQ) #u_nk stores the fep data\n",
    "perWindow, cumulative = doEstimation(u_nk) #Run the BAR estimator on the fep data\n",
    "forward, forward_error, backward, backward_error = doConvergence(u_nk) #Used later in the convergence plot\n",
    "\n",
    "dG_site = np.round(cumulative.BAR.f.iloc[-1]*RT, 1)\n",
    "error_site = np.round(cumulative.BAR.errors.iloc[-1]*RT, 1)\n",
    "changeAndError = f'\\u0394G<sub>bulk</sub> = {dG_site}\\u00B1{error_site} kcal/mol'\n",
    "Markdown('<font size=7>{}</font><br/>'.format(changeAndError))"
   ]
  },
  {
   "cell_type": "code",
   "execution_count": null,
   "id": "d8472e07-c6ad-4d6a-9b47-1e93a133e3b3",
   "metadata": {},
   "outputs": [],
   "source": [
    "width = 8\n",
    "height = 4\n",
    "fig, axes = plotGeneral(cumulative, perWindow, RT, width=width, height=height, PDFtype='PDF')\n",
    "plt.savefig(f'{path}_bound_generalFigures.pdf')\n",
    "#plt.savefig(f'{path}dG_{affix}.png', dpi=600)\n",
    "plt.show()\n",
    "\n",
    "fig, convAx = plt.subplots(1,1)\n",
    "convAx = convergencePlot(convAx, forward*RT, forward_error*RT, backward*RT, backward_error*RT)\n",
    "convAx.set(xlabel='Fraction of Simulation Time', ylabel=r'Total $\\rm\\Delta G_{\\lambda}$ (kcal/mol)')\n",
    "fig.set_figwidth(width*3/4)\n",
    "fig.set_figheight(height)\n",
    "convAx.legend()\n",
    "plt.savefig(f'{path}_bound_convergence.pdf')\n",
    "plt.show()"
   ]
  },
  {
   "cell_type": "markdown",
   "id": "bf57540b-0205-4997-a6c3-84314c1be453",
   "metadata": {
    "tags": []
   },
   "source": [
    "***\n",
    "# Process the DBC TI calculation"
   ]
  },
  {
   "cell_type": "code",
   "execution_count": null,
   "id": "fc96732f-2e47-488b-a558-6f6a28b9dd2e",
   "metadata": {},
   "outputs": [],
   "source": [
    "def plotTI(cumulative, perWindow, width=8, height=4, PDFtype='KDE', hystLim=(-1,1), fwdColor='#0072B2', bwdColor='#D55E00'):\n",
    "    fig, ((cumAx, del1),( eachAx, del2),(hystAx, pdfAx)) = plt.subplots(3,2, sharex='col', sharey='row', gridspec_kw={'width_ratios': [2, 1]})\n",
    "\n",
    "    fig.delaxes(del1)\n",
    "    fig.delaxes(del2)\n",
    "\n",
    "    # Cumulative change in kcal/mol\n",
    "    cumAx.plot(cumulative.index, cumulative['mean'], marker=None, linewidth=1, color='black', label='mean')\n",
    "    cumAx.plot(cumulative.index, cumulative.ff, marker=None, linewidth=1, alpha=0.5, color=fwdColor, label='forward samples')\n",
    "    cumAx.plot(cumulative.index, cumulative.fb, marker=None, linewidth=1, alpha=0.5, color=bwdColor, label='backward samples')\n",
    "    finalEstimate = cumulative['mean'][1]\n",
    "    cumAx.axhline(finalEstimate, linestyle='-', color='gray', label=f'Final Value:\\n{np.round(finalEstimate,1)}kcal/mol')\n",
    "    cumAx.legend()                  \n",
    "    cumAx.set(ylabel=r'Cumulative $\\rm\\Delta G_{\\lambda}$'+'\\n(kcal/mol)')\n",
    "\n",
    "    # Per-window change in kcal/mol\n",
    "    eachAx.plot(perWindow.index, perWindow.dG_f, marker=None, linewidth=1, alpha=0.5, color=fwdColor)\n",
    "    eachAx.plot(perWindow.index, -perWindow.dG_b, marker=None, linewidth=1, alpha=0.5, color=bwdColor)\n",
    "    eachAx.plot(lmid, np.mean([perWindow.dG_f,-perWindow.dG_b], axis=0), linestyle='-.', color='black')\n",
    "    eachAx.set(ylabel=r'$\\rm\\Delta G_{\\lambda}$'+'\\n(kcal/mol)')\n",
    "\n",
    "    \n",
    "    #Hysteresis Plots\n",
    "    diff = perWindow.difference\n",
    "    hystAx.vlines(perWindow.index, np.zeros(len(perWindow)), diff, label=\"fwd - bwd\", linewidth=2)\n",
    "    hystAx.set(xlabel=r'$\\lambda$', ylabel=r'$\\delta_\\lambda$ (kcal/mol)', ylim=hystLim)\n",
    "    \n",
    "    if PDFtype=='KDE':\n",
    "        kernel = sp.stats.gaussian_kde(diff)\n",
    "        pdfX = np.linspace(-1, 1, 1000)\n",
    "        pdfY = kernel(pdfX)\n",
    "        pdfAx.plot(pdfY, pdfX, label='KDE')\n",
    "    elif PDFtype=='PDF':\n",
    "        pdfX, pdfY = np.histogram(X, nbins=20)\n",
    "        pdfAx.plot(pdfY, pdfX,  label=\"Estimated Distribution\")\n",
    "    else:\n",
    "        raise(f\"Error: PDFtype {PDFtype} not recognized\")\n",
    "    \n",
    "    pdfAx.set(xlabel=PDFtype)\n",
    "\n",
    "    std = np.std(diff)\n",
    "    mean = np.average(diff)\n",
    "    temp = pd.Series(pdfY, index=pdfX)\n",
    "    mode = temp.idxmax()\n",
    "    \n",
    "    textstr = r\"$\\rm mode=$\"+f\"{np.round(mode,2)}\"+\"\\n\"+fr\"$\\mu$={np.round(mean,2)}\"+\"\\n\"+fr\"$\\sigma$={np.round(std,2)}\"\n",
    "    props = dict(boxstyle='square', facecolor='white', alpha=0.5)\n",
    "    pdfAx.text(0.15, 0.95, textstr, transform=pdfAx.transAxes, fontsize=14,\n",
    "            verticalalignment='top', bbox=props)\n",
    "\n",
    "    fig.set_figwidth(width)\n",
    "    fig.set_figheight(height*3)\n",
    "    fig.tight_layout()\n",
    "    \n",
    "    return fig, [cumAx,eachAx,hystAx,pdfAx] "
   ]
  },
  {
   "cell_type": "code",
   "execution_count": null,
   "id": "63265f59-15b4-40ff-8e8f-4c1e89ea1ed0",
   "metadata": {},
   "outputs": [],
   "source": [
    "def makedUFrame(windows=11, samples=10, timeFrequency=100, precision=3, first=0):\n",
    "    #Make an empty data frame\n",
    "    lambdas = np.round(np.linspace(0,1,windows), precision)\n",
    "    dL = np.round(lambdas[1]-lambdas[0], precision)\n",
    "    times = first+(timeFrequency*np.arange(samples)).astype(int) #steps are integers\n",
    "    indcs = pd.MultiIndex.from_product([times, lambdas], names = ['time','from-lambda']) #Fully cross the FEPs and the steps like you'd have in raw data (from NAMD at least)\n",
    "    data = pd.DataFrame(columns=lambdas, index=indcs) #build the dataframe\n",
    "    data.sort_index(level=1) #make it pretty\n",
    "    \n",
    "    return data, dL\n",
    "\n",
    "\n",
    "\n",
    "\n",
    "def get_TI(dU_Frame):\n",
    "    #the data frame is organized from index level 1 (fep-lambda) TO column\n",
    "    #dG will be FROM column TO index\n",
    "    groups = dU_Frame.groupby(level=1)\n",
    "    dG=pd.DataFrame([])\n",
    "    for name, group in groups:\n",
    "        dG[name] = np.mean(group)\n",
    "\n",
    "    dG_f=np.diag(dG, k=1)\n",
    "    dG_b=np.diag(dG, k=-1)\n",
    "\n",
    "    l=dG.columns.to_list()\n",
    "    l_mid = np.mean([l[1:],l[:-1]], axis=0)\n",
    "\n",
    "    return l, l_mid, dG_f, dG_b\n",
    "\n",
    "\n",
    "def doTI(dU_Frame):\n",
    "    cumulative = pd.DataFrame()\n",
    "    perWindow = pd.DataFrame()\n",
    "        \n",
    "    l, lmid, dG_fs, dG_bs = get_TI(dU_Frame)\n",
    "\n",
    "    cumulative['ff'] = np.insert(np.cumsum(dG_fs),0,0)\n",
    "    cumulative['fb'] = np.insert(-np.cumsum(dG_bs),0,0)\n",
    "    cumulative['mean'] = np.mean(cumulative, axis=1) \n",
    "    cumulative.index = l \n",
    "\n",
    "    perWindow['dG_f'] = dG_fs\n",
    "    perWindow['dG_b'] = dG_bs\n",
    "    perWindow['difference'] = np.array(dG_fs)+np.array(dG_bs)        \n",
    "    perWindow.index = lmid\n",
    "    \n",
    "    return perWindow.copy(), cumulative.copy()"
   ]
  },
  {
   "cell_type": "code",
   "execution_count": null,
   "id": "4963ed37-1ea0-4167-915a-85a7a5aec40b",
   "metadata": {},
   "outputs": [],
   "source": [
    "def makeHarmonicWall(FC=10, targetFC=0, targetFE=1, upperWalls=1, schedule=None, numSteps=1000, targetEQ=500, name='HW', lowerWalls=None):\n",
    "    HW = {'name':name, 'targetFC':targetFC, 'targetFE':targetFE, 'FC':FC, 'upperWalls':upperWalls, 'schedule':schedule, 'numSteps':numSteps, 'targetEQ':targetEQ, 'lowerWalls':lowerWalls}\n",
    "    return HW\n",
    "\n",
    "def HW_U(HW, coord, L):\n",
    "    d=0\n",
    "    if HW['upperWalls'] and coord>HW['upperWalls']:\n",
    "        d = coord-HW['upperWalls']\n",
    "    elif HW['lowerWalls'] and coord<HW['lowerWalls']:\n",
    "        d = coord-HW['lowerWalls']\n",
    "    \n",
    "    if d!=0:\n",
    "        dk = HW['targetFC']-HW['FC']\n",
    "        la = L**HW['targetFE']\n",
    "        kL = HW['FC']+la*dk\n",
    "        U = 0.5*kL*(d**2)\n",
    "    else:\n",
    "        U=0\n",
    "    return U\n",
    "\n",
    "def dHW_U(HW, coord, L):\n",
    "    d=0\n",
    "    if HW['upperWalls'] and coord>HW['upperWalls']:\n",
    "        d = coord-HW['upperWalls']\n",
    "    elif HW['lowerWalls'] and coord<HW['lowerWalls']:\n",
    "        d = coord-HW['lowerWalls']\n",
    "    \n",
    "    if d!=0:\n",
    "        dk = HW['targetFC']-HW['FC']\n",
    "        la = L**HW['targetFE']\n",
    "        kL = HW['FC']+la*dk\n",
    "        U = 0.5*kL*(d**2)\n",
    "    else:\n",
    "        U=0\n",
    "    return U"
   ]
  },
  {
   "cell_type": "code",
   "execution_count": null,
   "id": "652216eb-5aaf-4706-bb9d-40548e7cd047",
   "metadata": {},
   "outputs": [],
   "source": [
    "def fill_dUFrame(dU_Frame, dataTI, dL, step):\n",
    "    for key, group in dataTI.groupby('L'):\n",
    "        current = np.nan\n",
    "        forward = np.nan\n",
    "        backward = np.nan\n",
    "\n",
    "        current = np.array([HW_U(DBC, coord, key) for coord in group.DBC])\n",
    "\n",
    "        dU_Frame.loc[(slice(None), key), key] = 0\n",
    "\n",
    "\n",
    "        nextKey = np.round(key+dL, 3)\n",
    "        lastKey = np.round(key-dL, 3)\n",
    "        if key < 1:\n",
    "            forward = np.array([HW_U(DBC, coord, nextKey) for coord in group.DBC])\n",
    "\n",
    "            dUf = forward-current\n",
    "            dU_Frame.loc[(slice(0,len(dUf)*step-1), key), nextKey] = dUf\n",
    "            #group.loc[:,nextKey]=dUf\n",
    "        if key > 0:\n",
    "            backward = np.array([HW_U(DBC, coord, lastKey) for coord in group.DBC])\n",
    "            #U_Frame.loc[(slice(None), key), lastKey] = backward   \n",
    "            dUb = backward - current\n",
    "            dU_Frame.loc[(slice(0,len(dUb)*step-1), key), lastKey] = dUb\n",
    "            #group.loc[:,lastKey]=dUf\n",
    "\n",
    "    #dU_frame = pd.concat(rebuild)\n",
    "    dU_Frame = dU_Frame.sort_index(level=1).sort_index(axis=1)\n",
    "    dU_Frame = dU_Frame.dropna(how='all', axis=0)\n",
    "    #U_Frame = U_Frame.sort_index(level=1).sort_index(axis=1)\n",
    "    return dU_Frame.copy()"
   ]
  },
  {
   "cell_type": "code",
   "execution_count": null,
   "id": "37993b74-dab4-4bd3-9d91-5b6116d38519",
   "metadata": {},
   "outputs": [],
   "source": [
    "\n",
    "step = 100\n",
    "path = f'{root}/RFEP/output/'\n",
    "#path = '/home/ems363/Documents/RFEP/'\n",
    "dataTI = pd.read_csv(glob(path+'*.colvars.traj')[0], delim_whitespace=True, names=['step','DBC', 'distance', 'E_dist', 'E_DBC'], comment='#', index_col=0)\n",
    "dataTI = dataTI[dataTI.index>=1000][1:]\n",
    "dataTI.index = dataTI.index-1000\n",
    "\n",
    "#For comparison to current method. Not needed in release form.\n",
    "RFEPdat = pd.read_csv(glob(path+'RFEP.dat')[0], delim_whitespace=True, names=['L', 'dGperL'], comment='#', index_col=0)\n",
    "\n",
    "Lsched = np.linspace(1,0,41)\n",
    "\n",
    "Dist = makeHarmonicWall(FC=200, upperWalls=radius, name='Dist_rest')\n",
    "DBC = makeHarmonicWall(FC=0, targetFC=200, targetFE=6, upperWalls=1.5, targetEQ=500, numSteps=300000, name='DBC_rest', schedule=Lsched)\n",
    "Ls = (dataTI.index.values-1)//DBC['numSteps']\n",
    "Ls[0] = 0"
   ]
  },
  {
   "cell_type": "code",
   "execution_count": null,
   "id": "4d8e449d-799f-425b-b798-2cf7999f1d6d",
   "metadata": {},
   "outputs": [],
   "source": [
    "Ls[Ls==41] = 40 #Fix in case there are extra samples for the last window"
   ]
  },
  {
   "cell_type": "code",
   "execution_count": null,
   "id": "8480ef72-4a5c-4f5b-9156-7e2962f92e75",
   "metadata": {},
   "outputs": [],
   "source": [
    "dataLs = np.round([DBC['schedule'][i] for i in Ls], 3)\n",
    "dataTI.loc[:,'L'] = dataLs\n",
    "dataTI = dataTI.iloc[1:]"
   ]
  },
  {
   "cell_type": "code",
   "execution_count": null,
   "id": "33cfeafc-194e-4d00-a7ba-7209f7caebbe",
   "metadata": {},
   "outputs": [],
   "source": [
    "if np.isnan(dataTI.E_dist.iloc[0]):\n",
    "    dataTI.loc[:,'E_dist'] = [HW_U(Dist, coord, 0) for coord in dataTI.distance]\n",
    "if np.isnan(dataTI.E_DBC.iloc[0]):\n",
    "    dataTI.loc[:,'E_DBC'] = [HW_U(DBC, coord, L) for coord, L in zip(dataTI.DBC, dataTI.L)]"
   ]
  },
  {
   "cell_type": "code",
   "execution_count": null,
   "id": "ca237cdd-65b4-4bb9-87b2-46beb8fb670f",
   "metadata": {},
   "outputs": [],
   "source": [
    "plt.plot(dataTI.E_dist, label='spherical restraint', alpha=0.5)\n",
    "plt.plot(dataTI.E_DBC, label='DBC restraint', alpha=0.5)\n",
    "plt.legend()\n",
    "plt.savefig(f'{path}_restraint_overlap.pdf')"
   ]
  },
  {
   "cell_type": "code",
   "execution_count": null,
   "id": "0b3b0eeb-0217-4fad-becc-4038799ad59e",
   "metadata": {},
   "outputs": [],
   "source": [
    "dU_Frame, dL = makedUFrame(41, 4000, timeFrequency=step)\n",
    "dU_Frame = fill_dUFrame(dU_Frame, dataTI, dL, step)\n",
    "equilibrated = dU_Frame[dU_Frame.index.get_level_values(0) > DBC['targetEQ']]\n",
    "l, lmid, Gf, Gb = get_TI(equilibrated)\n",
    "TIperWindow, TIcumulative = doTI(equilibrated)"
   ]
  },
  {
   "cell_type": "code",
   "execution_count": null,
   "id": "23819d22-33df-46d9-b728-d376fa10f984",
   "metadata": {},
   "outputs": [],
   "source": [
    "dG_DBC = np.round(TIcumulative['mean'][1], 1)\n",
    "error_DBC = np.round(TIcumulative['mean'][1]-TIcumulative['ff'][1], 1)\n",
    "changeAndError = f'\\u0394G<sub>DBC</sub> = {dG_DBC}\\u00B1{error_DBC} kcal/mol'\n",
    "Markdown('<font size=7>{}</font><br/>'.format(changeAndError))"
   ]
  },
  {
   "cell_type": "code",
   "execution_count": null,
   "id": "174c90b2-09a7-4a74-ac11-0056d844b003",
   "metadata": {},
   "outputs": [],
   "source": [
    "fwdColor='#0072B2'\n",
    "bwdColor='#D55E00'\n",
    "plt.plot(RFEPdat*-1, label='colvars estimate', color='red')\n",
    "plt.plot(lmid, Gf, label='forward estimate', color=fwdColor)\n",
    "plt.plot(lmid, -Gb, label='backward estimate', color=bwdColor)\n",
    "plt.plot(lmid, np.mean([Gf,-Gb], axis=0), label='fwd-bwd mean', linestyle='-.', color='black')\n",
    "plt.savefig(f'{path}_TI_vs_colvarEst.pdf')\n",
    "plt.legend()"
   ]
  },
  {
   "cell_type": "code",
   "execution_count": null,
   "id": "03a9aaed-ed65-4914-944e-ee703a28afe1",
   "metadata": {},
   "outputs": [],
   "source": [
    "fig, axes = plotTI(TIcumulative, TIperWindow, hystLim=(-0.25, 0.25))\n",
    "plt.savefig(f'{path}_TI_general.pdf')\n",
    "plt.show()"
   ]
  },
  {
   "cell_type": "markdown",
   "id": "5c982385-3b00-44e1-b9d0-26d75ecc8708",
   "metadata": {},
   "source": [
    "***\n",
    "# Calculate the Volumetric Restraint Contribution"
   ]
  },
  {
   "cell_type": "code",
   "execution_count": null,
   "id": "2ac09221-de1f-4ecf-8a4a-1fd0c0f7e7e8",
   "metadata": {},
   "outputs": [],
   "source": [
    "molar = 1660 #cubic angstroms per particle in a one molar solution\n",
    "dG_V = np.round(-RT*np.log(4/3*sp.pi*radius**3/molar), 1)\n",
    "error_V = 0"
   ]
  },
  {
   "cell_type": "code",
   "execution_count": null,
   "id": "2b993ba8-56f6-4567-852d-499ca7aa62f8",
   "metadata": {},
   "outputs": [],
   "source": [
    "dG_V"
   ]
  },
  {
   "cell_type": "markdown",
   "id": "78dbe3ef-d34f-4f19-99a9-e0208f56e058",
   "metadata": {},
   "source": [
    "***\n",
    "# Compute the final estimate"
   ]
  },
  {
   "cell_type": "code",
   "execution_count": null,
   "id": "990ff514-1dc8-4dc2-a1a9-a1484cf05ac7",
   "metadata": {},
   "outputs": [],
   "source": [
    "dG_binding = dG_bulk + dG_V - dG_DBC - dG_site\n",
    "error_binding = np.sqrt(np.mean(np.array([error_bulk, error_V, error_site, error_DBC])**2))"
   ]
  },
  {
   "cell_type": "code",
   "execution_count": null,
   "id": "0d57d412-ed1a-4971-91b1-e4a89eed76c8",
   "metadata": {},
   "outputs": [],
   "source": [
    "print(f'\\u0394G = {np.round(dG_binding, 1)}\\u00B1{np.round(error_binding, 1)} kcal/mol')"
   ]
  },
  {
   "cell_type": "code",
   "execution_count": null,
   "id": "342c5b7b-f0d8-47f8-97ce-a8dab6a62986",
   "metadata": {},
   "outputs": [],
   "source": []
  }
 ],
 "metadata": {
  "kernelspec": {
   "display_name": "Python 3 (ipykernel)",
   "language": "python",
   "name": "python3"
  },
  "language_info": {
   "codemirror_mode": {
    "name": "ipython",
    "version": 3
   },
   "file_extension": ".py",
   "mimetype": "text/x-python",
   "name": "python",
   "nbconvert_exporter": "python",
   "pygments_lexer": "ipython3",
   "version": "3.9.12"
  }
 },
 "nbformat": 4,
 "nbformat_minor": 5
}
