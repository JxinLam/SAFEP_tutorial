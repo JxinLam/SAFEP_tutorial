{
 "cells": [
  {
   "cell_type": "code",
   "execution_count": null,
   "id": "f94f0ad2-5fe9-404a-950b-43f051170de2",
   "metadata": {},
   "outputs": [],
   "source": [
    "from AFEP_parse import *\n",
    "from alchemlyb.preprocessing import subsampling\n",
    "import os\n",
    "from scipy.signal import correlate\n",
    "import numpy as np\n",
    "import matplotlib.pyplot as plt\n",
    "import scipy as sp\n",
    "from scipy.optimize import curve_fit, leastsq\n",
    "from IPython.display import display, Markdown\n",
    "\n",
    "import warnings #Suppress future warnings from pandas.\n",
    "warnings.simplefilter(action='ignore', category=FutureWarning)"
   ]
  },
  {
   "cell_type": "markdown",
   "id": "da0ed20c-03b2-4575-945b-d35196c5b488",
   "metadata": {},
   "source": [
    "## This notebook makes use of pyMBAR and Alchemlyb\n",
    "See Shirts and Chodera (2008) for more details\n",
    "\n",
    "\"Statistically optimal analysis of samples from multiple equilibrium states\" doi: 10.1063/1.2978177"
   ]
  },
  {
   "cell_type": "markdown",
   "id": "e9c3eee0-c533-4408-9fac-93d624a52d58",
   "metadata": {},
   "source": [
    "# User parameters\n",
    "## IMPORTANT: Make sure the temperature matches the temperature used to run the simulations."
   ]
  },
  {
   "cell_type": "code",
   "execution_count": null,
   "id": "463bb934",
   "metadata": {},
   "outputs": [],
   "source": [
    "temperature = 303.15\n",
    "decorrelate = True #Flag for automatic decorrelation\n",
    "detectEQ = False #Flag for automatic equilibrium detection"
   ]
  },
  {
   "cell_type": "markdown",
   "id": "cf11aee7-cd65-484d-a797-2fe8235c2492",
   "metadata": {
    "tags": []
   },
   "source": [
    "# Process the Bound Data"
   ]
  },
  {
   "cell_type": "code",
   "execution_count": null,
   "id": "210c2d50",
   "metadata": {},
   "outputs": [],
   "source": [
    "path='../AFEP-Bound-Decoupling/output/'\n",
    "filename='*.fepout' #This can be a regex pattern if you have more than one fepout file\n",
    "\n",
    "RT = 0.00198720650096 * temperature # RT in kcal/mol\n",
    "fepoutFiles = glob(path+filename)\n",
    "fepoutFiles = natsorted(fepoutFiles)\n",
    "#print(f\"Will process {len(fepoutFiles)} fepout files\")"
   ]
  },
  {
   "cell_type": "code",
   "execution_count": null,
   "id": "ac7b3088-cb22-45eb-8f2a-18dbf9afecf0",
   "metadata": {},
   "outputs": [],
   "source": [
    "u_nk, _ = readAndProcess(fepoutFiles, temperature, decorrelate, detectEQ) #u_nk stores the fep data\n",
    "perWindow, cumulative = doEstimation(u_nk)"
   ]
  },
  {
   "cell_type": "code",
   "execution_count": null,
   "id": "08ecf8e5-b36c-4d51-b092-3d9418b4487e",
   "metadata": {},
   "outputs": [],
   "source": [
    "forward, forward_error, backward, backward_error = doConvergence(u_nk) #Used later in the convergence plot"
   ]
  },
  {
   "cell_type": "code",
   "execution_count": null,
   "id": "6c8d78a2-5f23-4f03-a0c9-e2aafcea38eb",
   "metadata": {},
   "outputs": [],
   "source": [
    "changeAndError = f'\\u0394G = {np.round(cumulative.BAR.f.iloc[-1]*RT, 1)}\\u00B1{np.round(cumulative.BAR.errors.iloc[-1], 3)} kcal/mol'\n",
    "Markdown('<font size=7>{}</font><br/>'.format(changeAndError))"
   ]
  },
  {
   "cell_type": "code",
   "execution_count": null,
   "id": "bac26b22",
   "metadata": {},
   "outputs": [],
   "source": [
    "width = 8\n",
    "height = 4\n",
    "fig, axes = plotGeneral(cumulative, perWindow, pdfX, pdfY, width=width, height=height, PDFtype='KDE')\n",
    "plt.savefig(f'{path}_bound_generalFigures.pdf')\n",
    "#plt.savefig(f'{path}dG_{affix}.png', dpi=600)\n",
    "plt.show()\n",
    "\n",
    "fig, convAx = plt.subplots(1,1)\n",
    "convAx = convergencePlot(convAx, forward*RT, forward_error*RT, backward*RT, backward_error*RT)\n",
    "convAx.set(xlabel='Fraction of Simulation Time', ylabel=r'Total $\\rm\\Delta G_{\\lambda}$ (kcal/mol)')\n",
    "fig.set_figwidth(width*3/4)\n",
    "fig.set_figheight(height)\n",
    "convAx.legend()\n",
    "plt.savefig(f'{path}_bound_convergence.pdf')\n",
    "plt.show()"
   ]
  },
  {
   "cell_type": "code",
   "execution_count": null,
   "id": "a51516ec-fe12-4d12-a2a8-5e443d0f88e8",
   "metadata": {},
   "outputs": [],
   "source": []
  }
 ],
 "metadata": {
  "kernelspec": {
   "display_name": "Python 3 (ipykernel)",
   "language": "python",
   "name": "python3"
  },
  "language_info": {
   "codemirror_mode": {
    "name": "ipython",
    "version": 3
   },
   "file_extension": ".py",
   "mimetype": "text/x-python",
   "name": "python",
   "nbconvert_exporter": "python",
   "pygments_lexer": "ipython3",
   "version": "3.9.5"
  }
 },
 "nbformat": 4,
 "nbformat_minor": 5
}
