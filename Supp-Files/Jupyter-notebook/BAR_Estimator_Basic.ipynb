{
 "cells": [
  {
   "cell_type": "code",
   "execution_count": null,
   "id": "f94f0ad2-5fe9-404a-950b-43f051170de2",
   "metadata": {},
   "outputs": [],
   "source": [
    "from AFEP_parse import *\n",
    "\n",
    "from IPython.display import display, Markdown\n",
    "\n",
    "import warnings #Suppress future warnings from pandas.\n",
    "warnings.simplefilter(action='ignore', category=FutureWarning)"
   ]
  },
  {
   "cell_type": "markdown",
   "id": "da0ed20c-03b2-4575-945b-d35196c5b488",
   "metadata": {},
   "source": [
    "# How to Use this Notebook:\n",
    "\n",
    "## User Parameters:\n",
    "The notebook as-is will read and process the sample outputs provided.\n",
    "\n",
    "- root should be the path (relative or absolute) to the parent directory that contains (or will containt) all your data.\n",
    "- temperature is the temperature **at which your simulations were run** \n",
    "- decorrelate is a flag for automatic decorrelation of samples (see Shirts and Chodera '08). Should be set to True for general use. \n",
    "- detectEQ (automatic equilibrium detection) flag is optional. If you have very poor convergence but believe your system is well-sampled, you may wish to try it.\n",
    "\n",
    "## Layout:\n",
    "The notebook is organized into five sections (separated by horizontal lines):\n",
    "- Process the Bound Data\n",
    "- Process the Unbound Data\n",
    "- Process the DBC TI calculation\n",
    "- Calculate the Volumetric Restraint Contribution\n",
    "- Calculate the Binding Free Energy\n",
    "Each section starts with a variable block including a path variable (set relative to the root). This may need to be updated if you use a different file structure from that used in the sample data.\n",
    "\n",
    "## File Structure of Sample Data:\n",
    "Repository/Supp-Files\n",
    "|\n",
    "|----AFEP-Bound-Decoupling\n",
    "|    |----fep_output\n",
    "|         | AFEP2-02.fepout\n",
    "|\n",
    "|----AFEP-Bulk\n",
    "|    |----fep_output\n",
    "|         |\n",
    "|\n",
    "|\n",
    "|\n",
    "\n",
    "\n",
    "\n",
    "\n",
    "# Other Important Notes and Credits\n",
    "- This notebook is specially written for the SAFEP tutorial. \n",
    "For more up-to-date and general versions see the SAFEP github.\n",
    "\n",
    "- This and other SAFEP notebooks make use of pyMBAR and Alchemlyb. \n",
    "For more information see Shirts and Chodera (2008), \"Statistically optimal analysis of samples from multiple equilibrium states\" doi: 10.1063/1.2978177\n",
    "\n"
   ]
  },
  {
   "cell_type": "code",
   "execution_count": null,
   "id": "463bb934",
   "metadata": {},
   "outputs": [],
   "source": [
    "root = '..' #Root path to fepout files\n",
    "\n",
    "temperature = 300\n",
    "radius = 3 #Radius of the spherical restraint used for the DBC TI calculation\n",
    "\n",
    "decorrelate = True #Flag for automatic decorrelation\n",
    "detectEQ = False #Flag for automatic equilibrium detection\n",
    "RT = 0.00198720650096 * temperature # RT in kcal/mol\n",
    "\n"
   ]
  },
  {
   "cell_type": "markdown",
   "id": "cf11aee7-cd65-484d-a797-2fe8235c2492",
   "metadata": {
    "tags": []
   },
   "source": [
    "***\n",
    "# Process the Bound FEP Data"
   ]
  },
  {
   "cell_type": "code",
   "execution_count": null,
   "id": "210c2d50",
   "metadata": {},
   "outputs": [],
   "source": [
    "path=f'{root}/AFEP-Bound-Decoupling/output/' #Path to fepout files\n",
    "filename='*.fepout' #This can be a regex pattern if you have more than one fepout file\n",
    "#Caution: if you have multiple fepout files, name them alphanumerically"
   ]
  },
  {
   "cell_type": "code",
   "execution_count": null,
   "id": "ac7b3088-cb22-45eb-8f2a-18dbf9afecf0",
   "metadata": {},
   "outputs": [],
   "source": [
    "fepoutFiles = glob(path+filename) #Resolve any naming regular expressions\n",
    "u_nk, _ = readAndProcess(fepoutFiles, temperature, decorrelate, detectEQ) #u_nk stores the fep data\n",
    "perWindow, cumulative = doEstimation(u_nk) #Run the BAR estimator on the fep data\n",
    "forward, forward_error, backward, backward_error = doConvergence(u_nk) #Used later in the convergence plot\n",
    "\n",
    "dG_site = np.round(cumulative.BAR.f.iloc[-1]*RT, 1)\n",
    "error_site = np.round(cumulative.BAR.errors.iloc[-1]*RT, 1)\n",
    "changeAndError = f'\\u0394G<sub>site</sub> = {dG_site}\\u00B1{error_site} kcal/mol'\n",
    "Markdown('<font size=7>{}</font><br/>'.format(changeAndError))"
   ]
  },
  {
   "cell_type": "code",
   "execution_count": null,
   "id": "bac26b22",
   "metadata": {},
   "outputs": [],
   "source": [
    "#Make some general plots\n",
    "width = 8\n",
    "height = 4\n",
    "fig, axes = plotGeneral(cumulative, perWindow, RT, width=width, height=height, PDFtype='Histogram')\n",
    "plt.savefig(f'{path}bound_generalFigures.pdf')\n",
    "plt.show()\n",
    "\n",
    "fig, convAx = plt.subplots(1,1)\n",
    "convAx = convergencePlot(convAx, forward*RT, forward_error*RT, backward*RT, backward_error*RT)\n",
    "\n",
    "fig.set_figwidth(width*3/4)\n",
    "fig.set_figheight(height)\n",
    "\n",
    "plt.savefig(f'{path}bound_convergence.pdf')\n",
    "plt.show()"
   ]
  },
  {
   "cell_type": "markdown",
   "id": "331dd723-edd2-48ad-8060-909b74ebab1d",
   "metadata": {
    "tags": []
   },
   "source": [
    "***\n",
    "# Process the Bulk FEP Data"
   ]
  },
  {
   "cell_type": "code",
   "execution_count": null,
   "id": "2b3a21fa-fff8-418d-a841-693d3d991d68",
   "metadata": {},
   "outputs": [],
   "source": [
    "path=f'{root}/AFEP-Hydration/'\n",
    "filename='*.fepout' #This can be a regex pattern if you have more than one fepout file\n",
    "\n",
    "fepoutFiles = glob(path+filename)\n"
   ]
  },
  {
   "cell_type": "code",
   "execution_count": null,
   "id": "e20ce3e7-727f-4839-ab7c-2650cb7cb595",
   "metadata": {},
   "outputs": [],
   "source": [
    "fepoutFiles = glob(path+filename) #Resolve any naming regular expressions\n",
    "u_nk, _ = readAndProcess(fepoutFiles, temperature, decorrelate, detectEQ) #u_nk stores the fep data\n",
    "perWindow, cumulative = doEstimation(u_nk) #Run the BAR estimator on the fep data\n",
    "forward, forward_error, backward, backward_error = doConvergence(u_nk) #Used later in the convergence plot\n",
    "\n",
    "dG_bulk = np.round(cumulative.BAR.f.iloc[-1]*RT, 1)\n",
    "error_bulk = np.round(cumulative.BAR.errors.iloc[-1]*RT, 1)\n",
    "changeAndError = f'\\u0394G<sub>bulk</sub> = {dG_site}\\u00B1{error_site} kcal/mol'\n",
    "Markdown('<font size=7>{}</font><br/>'.format(changeAndError))"
   ]
  },
  {
   "cell_type": "code",
   "execution_count": null,
   "id": "d8472e07-c6ad-4d6a-9b47-1e93a133e3b3",
   "metadata": {},
   "outputs": [],
   "source": [
    "width = 8\n",
    "height = 4\n",
    "fig, axes = plotGeneral(cumulative, perWindow, RT, width=width, height=height, PDFtype='Histogram')\n",
    "plt.savefig(f'{path}bulk_generalFigures.pdf')\n",
    "#plt.savefig(f'{path}dG_{affix}.png', dpi=600)\n",
    "plt.show()\n",
    "\n",
    "fig, convAx = plt.subplots(1,1)\n",
    "convAx = convergencePlot(convAx, forward*RT, forward_error*RT, backward*RT, backward_error*RT)\n",
    "convAx.set(xlabel='Fraction of Simulation Time', ylabel=r'Total $\\rm\\Delta G_{\\lambda}$ (kcal/mol)')\n",
    "fig.set_figwidth(width*3/4)\n",
    "fig.set_figheight(height)\n",
    "convAx.legend()\n",
    "plt.savefig(f'{path}bulk_convergence.pdf')\n",
    "plt.show()"
   ]
  },
  {
   "cell_type": "markdown",
   "id": "bf57540b-0205-4997-a6c3-84314c1be453",
   "metadata": {
    "tags": []
   },
   "source": [
    "***\n",
    "# Process the DBC TI calculation\n",
    "Note: The error estimate below is just the standard deviation of the samples. <br>\n",
    "The BAR errors calculated above are standard errors of the mean."
   ]
  },
  {
   "cell_type": "code",
   "execution_count": null,
   "id": "fc96732f-2e47-488b-a558-6f6a28b9dd2e",
   "metadata": {},
   "outputs": [],
   "source": [
    "def plotTI(cumulative, perWindow, width=8, height=4, PDFtype='KDE', hystLim=(-1,1), color='#0072B2'):\n",
    "    fig, (cumAx,eachAx) = plt.subplots(2,1, sharex='col')\n",
    "\n",
    "    # Cumulative change in kcal/mol\n",
    "    cumAx.errorbar(cumulative.index, cumulative.dG, yerr=cumulative.error,marker=None, linewidth=1, color=color, label='Cumulative Change')\n",
    "    finalEstimate = cumulative.dG[1]\n",
    "    cumAx.axhline(finalEstimate, linestyle='-', color='gray', label=f'Final Value:\\n{np.round(finalEstimate,1)}kcal/mol')\n",
    "    cumAx.legend()                  \n",
    "    cumAx.set(ylabel=r'Cumulative $\\rm\\Delta G_{\\lambda}$'+'\\n(kcal/mol)')\n",
    "\n",
    "    # Per-window change in kcal/mol\n",
    "    eachAx.errorbar(perWindow.index, perWindow.dGdL, marker=None, linewidth=1, yerr=perWindow.error, color=color)\n",
    "    eachAx.set(ylabel=r'$\\rm\\Delta G_{\\lambda}$'+'\\n(kcal/mol)')\n",
    "\n",
    "    fig.set_figwidth(width)\n",
    "    fig.set_figheight(height*3)\n",
    "    fig.tight_layout()\n",
    "    \n",
    "    return fig, [cumAx,eachAx] "
   ]
  },
  {
   "cell_type": "code",
   "execution_count": null,
   "id": "4963ed37-1ea0-4167-915a-85a7a5aec40b",
   "metadata": {},
   "outputs": [],
   "source": [
    "def makeHarmonicWall(FC=10, targetFC=0, targetFE=1, upperWalls=1, schedule=None, numSteps=1000, targetEQ=500, name='HW', lowerWalls=None):\n",
    "    HW = {'name':name, 'targetFC':targetFC, 'targetFE':targetFE, 'FC':FC, 'upperWalls':upperWalls, 'schedule':schedule, 'numSteps':numSteps, 'targetEQ':targetEQ, 'lowerWalls':lowerWalls}\n",
    "    return HW\n",
    "\n",
    "def HW_U(HW, coord, L):\n",
    "    d=0\n",
    "    if HW['upperWalls'] and coord>HW['upperWalls']:\n",
    "        d = coord-HW['upperWalls']\n",
    "    elif HW['lowerWalls'] and coord<HW['lowerWalls']:\n",
    "        d = coord-HW['lowerWalls']\n",
    "    \n",
    "    if d!=0:\n",
    "        dk = HW['targetFC']-HW['FC']\n",
    "        la = L**HW['targetFE']\n",
    "        kL = HW['FC']+la*dk\n",
    "        U = 0.5*kL*(d**2)\n",
    "    else:\n",
    "        U=0\n",
    "    return U\n",
    "\n",
    "def HW_dUdL(HW, coord, L):\n",
    "    d=0\n",
    "    if HW['upperWalls'] and coord>HW['upperWalls']:\n",
    "        d = coord-HW['upperWalls']\n",
    "    elif HW['lowerWalls'] and coord<HW['lowerWalls']:\n",
    "        d = coord-HW['lowerWalls']\n",
    "    \n",
    "    if d!=0:\n",
    "        dk = HW['targetFC']-HW['FC']\n",
    "        dla = HW['targetFE']*L**(HW['targetFE']-1)\n",
    "        kL = HW['FC']+dla*dk\n",
    "        dU = 0.5*kL*(d**2)\n",
    "    else:\n",
    "        dU=0\n",
    "    return dU"
   ]
  },
  {
   "cell_type": "code",
   "execution_count": null,
   "id": "37993b74-dab4-4bd3-9d91-5b6116d38519",
   "metadata": {},
   "outputs": [],
   "source": [
    "path = f'{root}/RFEP/output/'\n",
    "dataTI = pd.read_csv(glob(path+'*.colvars.traj')[0], delim_whitespace=True, names=['step','DBC', 'distance', 'E_dist', 'E_DBC'], comment='#', index_col=0)\n",
    "dataTI = dataTI[dataTI.index>=1000][1:]\n",
    "dataTI.index = dataTI.index-1000\n",
    "\n",
    "#For comparison to current method. Not needed in release form.\n",
    "#RFEPdat = pd.read_csv(glob(path+'RFEP.dat')[0], delim_whitespace=True, names=['L', 'dGperL'], comment='#', index_col=0)\n",
    "\n",
    "nLambdas = 41\n",
    "Lsched = np.linspace(1,0,nLambdas)\n",
    "\n",
    "Dist = makeHarmonicWall(FC=200, upperWalls=radius, name='Dist_rest')\n",
    "DBC = makeHarmonicWall(FC=0, targetFC=200, targetFE=6, upperWalls=1.5, targetEQ=500, numSteps=300000, name='DBC_rest', schedule=Lsched)\n",
    "Ls = (dataTI.index.values-1)//DBC['numSteps']\n",
    "Ls[0] = 0\n",
    "Ls[Ls==41] = 40 #Fix in case there are extra samples for the last window"
   ]
  },
  {
   "cell_type": "code",
   "execution_count": null,
   "id": "8480ef72-4a5c-4f5b-9156-7e2962f92e75",
   "metadata": {},
   "outputs": [],
   "source": [
    "dataLs = np.round([DBC['schedule'][i] for i in Ls], 3)\n",
    "dataTI.loc[:,'L'] = dataLs\n",
    "dataTI = dataTI.iloc[1:]"
   ]
  },
  {
   "cell_type": "code",
   "execution_count": null,
   "id": "0b3b0eeb-0217-4fad-becc-4038799ad59e",
   "metadata": {},
   "outputs": [],
   "source": [
    "dUs = {}\n",
    "for key, group in dataTI.groupby('L'):\n",
    "    dUs[key] = [HW_dUdL(DBC, coord, key) for coord in group.DBC]\n",
    "\n",
    "Lsched = np.sort(list(dUs.keys()))\n",
    "dL = Lsched[1] - Lsched[0]\n",
    "TIperWindow = pd.DataFrame(index=Lsched)\n",
    "TIperWindow['dGdL'] = [np.mean(dUs[L])*dL for L in Lsched]\n",
    "TIperWindow['error'] = [np.std(dUs[L])*dL for L in Lsched]\n",
    "\n",
    "TIcumulative = pd.DataFrame()\n",
    "TIcumulative['dG'] = np.cumsum(TIperWindow.dGdL)\n",
    "TIcumulative['error'] = np.sqrt(np.divide(np.cumsum(TIperWindow.error**2), np.arange(1,len(TIperWindow)+1)))"
   ]
  },
  {
   "cell_type": "code",
   "execution_count": null,
   "id": "23819d22-33df-46d9-b728-d376fa10f984",
   "metadata": {},
   "outputs": [],
   "source": [
    "dG_DBC = np.round(TIcumulative['dG'][1], 1)\n",
    "error_DBC = np.round(TIcumulative['error'][1], 1)\n",
    "changeAndError = f'\\u0394G<sub>DBC</sub> = {dG_DBC}\\u00B1{error_DBC} kcal/mol'\n",
    "Markdown('<font size=7>{}</font><br/>'.format(changeAndError))"
   ]
  },
  {
   "cell_type": "code",
   "execution_count": null,
   "id": "174c90b2-09a7-4a74-ac11-0056d844b003",
   "metadata": {},
   "outputs": [],
   "source": [
    "# Probably not relevant for the tutorial\n",
    "\n",
    "#if np.isnan(dataTI.E_dist.iloc[0]):\n",
    "#    dataTI.loc[:,'E_dist'] = [HW_U(Dist, coord, 0) for coord in dataTI.distance]\n",
    "#if np.isnan(dataTI.E_DBC.iloc[0]):\n",
    "#    dataTI.loc[:,'E_DBC'] = [HW_U(DBC, coord, L) for coord, L in zip(dataTI.DBC, dataTI.L)]\n",
    "\n",
    "#plt.plot(dataTI.E_dist, label='spherical restraint', alpha=0.5)\n",
    "#plt.plot(dataTI.E_DBC, label='DBC restraint', alpha=0.5)\n",
    "#plt.legend()\n",
    "#plt.savefig(f'{path}_restraint_overlap.pdf')\n",
    "\n",
    "#plt.plot(RFEPdat, label='colvars estimate', color='red')\n",
    "#plt.errorbar(Lsched, TIperWindow['dGdL'], yerr=TIperWindow['error'], label='Notebook Estimate', linestyle='-.', color='black')\n",
    "#plt.savefig(f'{path}_TI_vs_colvarEst.pdf')\n",
    "#plt.legend()"
   ]
  },
  {
   "cell_type": "code",
   "execution_count": null,
   "id": "03a9aaed-ed65-4914-944e-ee703a28afe1",
   "metadata": {},
   "outputs": [],
   "source": [
    "fig, axes = plotTI(TIcumulative, TIperWindow)\n",
    "plt.savefig(f'{path}TI_general.pdf')\n",
    "plt.show()"
   ]
  },
  {
   "cell_type": "markdown",
   "id": "5c982385-3b00-44e1-b9d0-26d75ecc8708",
   "metadata": {
    "tags": []
   },
   "source": [
    "***\n",
    "# Calculate the Volumetric Restraint Contribution"
   ]
  },
  {
   "cell_type": "code",
   "execution_count": null,
   "id": "2ac09221-de1f-4ecf-8a4a-1fd0c0f7e7e8",
   "metadata": {},
   "outputs": [],
   "source": [
    "molar = 1660 #cubic angstroms per particle in a one molar solution\n",
    "dG_V = np.round(-RT*np.log(4/3*sp.pi*radius**3/molar), 1)\n",
    "error_V = 0"
   ]
  },
  {
   "cell_type": "code",
   "execution_count": null,
   "id": "2b993ba8-56f6-4567-852d-499ca7aa62f8",
   "metadata": {},
   "outputs": [],
   "source": [
    "change = f'\\u0394G<sub>V</sub> = {np.round(dG_V, 1)} kcal/mol'\n",
    "Markdown('<font size=7>{}</font><br/>'.format(change))"
   ]
  },
  {
   "cell_type": "markdown",
   "id": "78dbe3ef-d34f-4f19-99a9-e0208f56e058",
   "metadata": {
    "tags": []
   },
   "source": [
    "***\n",
    "# Calculate the Binding Free Energy"
   ]
  },
  {
   "cell_type": "code",
   "execution_count": null,
   "id": "990ff514-1dc8-4dc2-a1a9-a1484cf05ac7",
   "metadata": {},
   "outputs": [],
   "source": [
    "dG_binding = dG_bulk + dG_V + dG_DBC - dG_site\n",
    "error_binding = np.sqrt(np.mean(np.array([error_bulk, error_V, error_site, error_DBC])**2))"
   ]
  },
  {
   "cell_type": "code",
   "execution_count": null,
   "id": "0d57d412-ed1a-4971-91b1-e4a89eed76c8",
   "metadata": {},
   "outputs": [],
   "source": [
    "changeAndError = f'\\u0394G<sub>binding</sub> = {np.round(dG_binding, 1)}\\u00B1{np.round(error_binding, 1)} kcal/mol'\n",
    "Markdown('<font size=7>{}</font><br/>'.format(changeAndError))"
   ]
  },
  {
   "cell_type": "code",
   "execution_count": null,
   "id": "342c5b7b-f0d8-47f8-97ce-a8dab6a62986",
   "metadata": {},
   "outputs": [],
   "source": []
  }
 ],
 "metadata": {
  "kernelspec": {
   "display_name": "Python 3 (ipykernel)",
   "language": "python",
   "name": "python3"
  },
  "language_info": {
   "codemirror_mode": {
    "name": "ipython",
    "version": 3
   },
   "file_extension": ".py",
   "mimetype": "text/x-python",
   "name": "python",
   "nbconvert_exporter": "python",
   "pygments_lexer": "ipython3",
   "version": "3.9.12"
  }
 },
 "nbformat": 4,
 "nbformat_minor": 5
}
